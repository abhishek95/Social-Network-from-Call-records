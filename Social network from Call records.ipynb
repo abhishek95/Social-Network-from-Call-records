{
 "cells": [
  {
   "cell_type": "code",
   "execution_count": 35,
   "metadata": {},
   "outputs": [],
   "source": [
    "import numpy as np\n",
    "import pandas as pd\n",
    "from pandas import DataFrame, read_csv\n",
    "from bokeh.plotting import figure\n",
    "from bokeh.io import output_notebook, show, output_file, curdoc\n",
    "\n",
    "def clean_data(df):    \n",
    "    columns_list = list(df.columns)\n",
    "    df_incoming = df.loc[df['direction']=='Incoming']\n",
    "    df_outgoing = df.loc[df['direction']=='Outgoing']\n",
    "    df_outgoing_columns = list(df_outgoing)\n",
    "    #print (df_outgoing.tail())\n",
    "    df_outgoing_columns[0],df_outgoing_columns[1] = df_outgoing_columns[1],df_outgoing_columns[0]\n",
    "    df_temp = df_outgoing.loc[:,df_outgoing_columns]\n",
    "    df_outgoing = df_temp\n",
    "    df_outgoing_columns[0],df_outgoing_columns[1] = df_outgoing_columns[1],df_outgoing_columns[0]\n",
    "    df_outgoing.columns = df_outgoing_columns\n",
    "\n",
    "    del (df_temp)\n",
    "    bigdf = df_incoming.append(df_outgoing,ignore_index='True')\n",
    "    bigdf = bigdf.drop('direction',axis=1)\n",
    "    del(df_incoming,df_outgoing)\n",
    "    return bigdf\n",
    "\n",
    "df = pd.read_csv('csv\\calls.csv')\n",
    "raw_df = df\n",
    "df = clean_data(df)\n",
    "#print (df.head())"
   ]
  },
  {
   "cell_type": "code",
   "execution_count": 42,
   "metadata": {},
   "outputs": [
    {
     "name": "stdout",
     "output_type": "stream",
     "text": [
      "False\n",
      "         user        other  duration                       timestamp\n",
      "0  7610039694  07434677419       211  Wed Sep 15 19:17:44 +0100 2010\n",
      "1  7641036117  07371326239        45  Mon Feb 11 07:45:42 +0000 1980\n",
      "2  7641036117  07681546436         0  Mon Feb 11 08:06:18 +0000 1980\n",
      "3  7641036117  07588304495       124  Thu Sep 09 19:35:37 +0100 2010\n",
      "4  7163185791  07230262224        47  Tue Sep 14 15:28:16 +0100 2010\n"
     ]
    }
   ],
   "source": [
    "from pandas.api.types import is_string_dtype\n",
    "from pandas.api.types import is_numeric_dtype\n",
    "\n",
    "print (is_numeric_dtype(df['timestamp']))\n",
    "\n",
    "print (df.head())"
   ]
  }
 ],
 "metadata": {
  "kernelspec": {
   "display_name": "Python 3",
   "language": "python",
   "name": "python3"
  },
  "language_info": {
   "codemirror_mode": {
    "name": "ipython",
    "version": 3
   },
   "file_extension": ".py",
   "mimetype": "text/x-python",
   "name": "python",
   "nbconvert_exporter": "python",
   "pygments_lexer": "ipython3",
   "version": "3.6.1"
  }
 },
 "nbformat": 4,
 "nbformat_minor": 2
}
