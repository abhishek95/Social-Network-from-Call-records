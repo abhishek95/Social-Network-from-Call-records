{
 "cells": [
  {
   "cell_type": "code",
   "execution_count": 95,
   "metadata": {},
   "outputs": [],
   "source": [
    "import numpy as np\n",
    "import pandas as pd\n",
    "from pandas import DataFrame, read_csv\n",
    "from bokeh.plotting import figure\n",
    "from bokeh.io import output_notebook, show, output_file, curdoc\n",
    "\n",
    "def clean_data(df):    \n",
    "    columns_list = list(df.columns)\n",
    "    df_incoming = df.loc[df['direction']=='Incoming']\n",
    "    df_outgoing = df.loc[df['direction']=='Outgoing']\n",
    "    df_outgoing_columns = list(df_outgoing)\n",
    "    #print (df_outgoing.tail())\n",
    "    df_outgoing_columns[0],df_outgoing_columns[1] = df_outgoing_columns[1],df_outgoing_columns[0]\n",
    "    df_temp = df_outgoing.loc[:,df_outgoing_columns]\n",
    "    df_outgoing = df_temp\n",
    "    df_outgoing_columns[0],df_outgoing_columns[1] = df_outgoing_columns[1],df_outgoing_columns[0]\n",
    "    df_outgoing.columns = df_outgoing_columns\n",
    "\n",
    "    del (df_temp)\n",
    "    bigdf = df_incoming.append(df_outgoing,ignore_index='True')\n",
    "    bigdf = bigdf.drop('direction',axis=1)\n",
    "    del(df_incoming,df_outgoing)\n",
    "    return bigdf\n",
    "\n",
    "df = pd.read_csv('csv\\calls.csv')\n",
    "raw_df = df\n",
    "df = clean_data(df)\n",
    "#print (df.head())"
   ]
  },
  {
   "cell_type": "code",
   "execution_count": 118,
   "metadata": {},
   "outputs": [
    {
     "name": "stdout",
     "output_type": "stream",
     "text": [
      "True\n",
      "False\n"
     ]
    }
   ],
   "source": [
    "from pandas.api.types import is_string_dtype\n",
    "from pandas.api.types import is_numeric_dtype\n",
    "\n",
    "print (is_string_dtype(df['user']))\n",
    "\n",
    "#print (df.head())\n",
    "df1 = df.loc[df.other.str.len() !=10]\n",
    "#print (df1)\n",
    "df1 = df1.dropna()\n",
    "df1['other']=pd.to_numeric(df1['other'],errors='coerce')\n",
    "df1['user']=pd.to_numeric(df1['user'],errors='coerce')\n",
    "df1['duration']=pd.to_numeric(df1['duration'],errors='coerce')\n",
    "\n",
    "print (is_numeric_dtype(df1['user']))\n",
    "#print (df1['user'])"
   ]
  }
 ],
 "metadata": {
  "kernelspec": {
   "display_name": "Python 3",
   "language": "python",
   "name": "python3"
  },
  "language_info": {
   "codemirror_mode": {
    "name": "ipython",
    "version": 3
   },
   "file_extension": ".py",
   "mimetype": "text/x-python",
   "name": "python",
   "nbconvert_exporter": "python",
   "pygments_lexer": "ipython3",
   "version": "3.6.1"
  }
 },
 "nbformat": 4,
 "nbformat_minor": 2
}
